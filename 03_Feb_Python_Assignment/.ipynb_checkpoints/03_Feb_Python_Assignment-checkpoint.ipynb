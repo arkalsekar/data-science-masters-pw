{
 "cells": [
  {
   "cell_type": "code",
   "execution_count": 59,
   "id": "28b9fe13-2a18-4d27-bd42-c69e18ae560b",
   "metadata": {},
   "outputs": [],
   "source": [
    "'''\n",
    "Q1. Which keyword is used to create a function? Create a function to return a list of odd numbers in the\n",
    "range of 1 to 25.\n",
    "Answer : def keyword is used to create a function. \n",
    "'''\n",
    "\n",
    "def odd_no():\n",
    "    reqList = [] \n",
    "    for i in range(1, 25):\n",
    "        if (i % 2 != 0):\n",
    "            reqList.append(i)\n",
    "    return reqList\n",
    "\n",
    "odd_no();"
   ]
  },
  {
   "cell_type": "code",
   "execution_count": 60,
   "id": "81e68fc5-a5c5-49b4-8a6e-72ceee459899",
   "metadata": {},
   "outputs": [
    {
     "name": "stdout",
     "output_type": "stream",
     "text": [
      "The Addition using args  10\n",
      "The product using kwargs  6\n"
     ]
    }
   ],
   "source": [
    "''' \n",
    "Q2 : Why *args and **kwargs is used in some functions? Create a function each for *args and **kwargs\n",
    "to demonstrate their use.\n",
    "Answer : *args passes variable number of non-keyworded arguments and on which operation of the tuple can be performed. **kwargs passes variable \n",
    "number of keyword arguments dictionary to function on which operation of a dictionary can be performed. \n",
    "*args and **kwargs are mainly used to make the function flexible.\n",
    "''' \n",
    "def add(*argv):\n",
    "    sum = 0;\n",
    "    for arg in argv:\n",
    "        sum += arg\n",
    "    return sum\n",
    "\n",
    "def product(**kwargv):\n",
    "    product = 1;\n",
    "    for k, v in kwargv.items():\n",
    "        product *= v\n",
    "    return product\n",
    "\n",
    "\n",
    "a = add(1, 2, 3, 4)\n",
    "print(\"The Addition using args \", a)\n",
    "p = product(a=1, b=2, c=3)\n",
    "print(\"The product using kwargs \", p)"
   ]
  },
  {
   "cell_type": "code",
   "execution_count": 61,
   "id": "3ebdb3ab-f1f3-4593-8fd0-35c668a42dc2",
   "metadata": {},
   "outputs": [
    {
     "name": "stdout",
     "output_type": "stream",
     "text": [
      "2\n",
      "4\n",
      "6\n",
      "8\n",
      "10\n"
     ]
    }
   ],
   "source": [
    "'''\n",
    "Q3 : What is an iterator in python? Name the method used to initialise the iterator object and the method\n",
    "used for iteration. Use these methods to print the first five elements of the given list [2, 4, 6, 8, 10, 12, 14,\n",
    "16, 18, 20].\n",
    "Answer : In Python, an iterator is an object used to iterate across iterable objects such as lists, tuples, dicts, and sets. The iter() method is \n",
    "used to initialize the iterator object. Iteration is accomplished through the usage of the next() method.\n",
    "'''\n",
    "l=[2, 4, 6, 8, 10, 12, 14, 16, 18, 20]\n",
    "count=0\n",
    "for i in l:\n",
    "    if count<5:\n",
    "        print(i)\n",
    "        count+=1"
   ]
  },
  {
   "cell_type": "code",
   "execution_count": 62,
   "id": "c9083d28-33e1-40f0-8c46-d1498bb538ec",
   "metadata": {},
   "outputs": [
    {
     "name": "stdout",
     "output_type": "stream",
     "text": [
      "0\n",
      "1\n",
      "1\n",
      "2\n",
      "3\n",
      "5\n",
      "8\n",
      "13\n",
      "21\n",
      "34\n"
     ]
    }
   ],
   "source": [
    "''' \n",
    "Q4. What is a generator function in python? Why yield keyword is used? Give an example of a generator\n",
    "function.\n",
    "Answer : Python's 'yield' keyword is a powerful tool for creating generators. It allows a function to produce a sequence of results over time, \n",
    "rather than calculating them all at once and returning them in a list. This makes it incredibly memory-efficient, especially when dealing with \n",
    "large sequences of data\n",
    "'''\n",
    "def fibonacci():\n",
    "    a, b = 0, 1\n",
    "    while True:\n",
    "        yield a\n",
    "        a, b = b, a + b\n",
    "\n",
    "fib = fibonacci()\n",
    "for i in range(10):\n",
    "    print(next(fib))\n"
   ]
  },
  {
   "cell_type": "code",
   "execution_count": 63,
   "id": "ad806a9d-3ead-4fdc-839d-596b57d8e894",
   "metadata": {},
   "outputs": [
    {
     "name": "stdout",
     "output_type": "stream",
     "text": [
      "2\n",
      "3\n",
      "5\n",
      "7\n",
      "11\n",
      "13\n",
      "17\n",
      "19\n",
      "23\n",
      "29\n",
      "31\n",
      "37\n",
      "41\n",
      "43\n",
      "47\n",
      "53\n",
      "59\n",
      "61\n",
      "67\n",
      "71\n"
     ]
    }
   ],
   "source": [
    "''' \n",
    "Q5. Create a generator function for prime numbers less than 1000. Use the next() method to print the\n",
    "first 20 prime numbers.\n",
    "'''\n",
    "def primes():\n",
    "    yield 2\n",
    "    primes_list = [2]\n",
    "    for i in range(3, 1000):\n",
    "        is_prime = True\n",
    "        for prime in primes_list:\n",
    "            if i % prime == 0:\n",
    "                is_prime = False\n",
    "                break\n",
    "        if is_prime:\n",
    "            primes_list.append(i)\n",
    "            yield i\n",
    "\n",
    "prime_gen = primes()\n",
    "for i in range(20):\n",
    "    print(next(prime_gen))\n"
   ]
  },
  {
   "cell_type": "code",
   "execution_count": 64,
   "id": "d0e433d8-4dfd-4f41-a5fa-c5ae2e5c0bbb",
   "metadata": {
    "scrolled": true
   },
   "outputs": [
    {
     "name": "stdout",
     "output_type": "stream",
     "text": [
      "0\n",
      "1\n",
      "1\n",
      "2\n",
      "3\n",
      "5\n",
      "8\n",
      "13\n",
      "21\n",
      "34\n"
     ]
    }
   ],
   "source": [
    "''' \n",
    "Q6 : Q6. Write a python program to print the first 10 Fibonacci numbers using a while loop.\n",
    "''' \n",
    "\n",
    "def fib(n):\n",
    "    first_term = 0\n",
    "    second_term = 1\n",
    "    i = 1\n",
    "    print(first_term)\n",
    "    print(second_term)\n",
    "    while (i<n -1):\n",
    "        next_term = first_term + second_term\n",
    "        print(next_term)\n",
    "        first_term = second_term\n",
    "        second_term = next_term\n",
    "        i = i + 1\n",
    "\n",
    "fib(10)"
   ]
  },
  {
   "cell_type": "code",
   "execution_count": 65,
   "id": "f42c2b46-f565-4b0d-aee9-cec203aae99f",
   "metadata": {},
   "outputs": [
    {
     "data": {
      "text/plain": [
       "['p', 'w', 's', 'k', 'i', 'l', 'l', 's']"
      ]
     },
     "execution_count": 65,
     "metadata": {},
     "output_type": "execute_result"
    }
   ],
   "source": [
    "'''\n",
    "Q7 : Write a List Comprehension to iterate through the given string: ‘pwskills’.\n",
    "Expected output: ['p', 'w', 's', 'k', 'i', 'l', 'l', 's']\n",
    "'''\n",
    "string  = \"pwskills\"\n",
    "list = [letter for letter in string]\n",
    "list"
   ]
  },
  {
   "cell_type": "code",
   "execution_count": 67,
   "id": "b5c3c17f-a936-49b7-b7d9-8b74150afe49",
   "metadata": {},
   "outputs": [
    {
     "name": "stdin",
     "output_type": "stream",
     "text": [
      "Please give a number :  121\n"
     ]
    },
    {
     "name": "stdout",
     "output_type": "stream",
     "text": [
      "Given number is a palindrome\n"
     ]
    }
   ],
   "source": [
    "''' \n",
    "Q8. Write a python program to check whether a given number is Palindrome or not using a while loop.\n",
    "'''\n",
    "n = int(input(\"Please give a number : \"))\n",
    "def reverse(num):\n",
    "    if num<10:\n",
    "      return num \n",
    "    else:\n",
    "      return int(str(num%10) + str(reverse(num//10)))\n",
    "def isPalindrome(num):\n",
    "    if num == reverse(num):\n",
    "        return 1\n",
    "    return 0\n",
    "if isPalindrome(n) == 1:\n",
    "    print(\"Given number is a palindrome\")\n",
    "else:\n",
    "    print(\"Given number is a not palindrome\") "
   ]
  },
  {
   "cell_type": "code",
   "execution_count": 68,
   "id": "581da39f-c000-48b8-8162-351b5f45143e",
   "metadata": {
    "scrolled": true
   },
   "outputs": [
    {
     "name": "stdout",
     "output_type": "stream",
     "text": [
      "[1, 3, 5, 7, 9, 11, 13, 15, 17, 19, 21, 23, 25, 27, 29, 31, 33, 35, 37, 39, 41, 43, 45, 47, 49, 51, 53, 55, 57, 59, 61, 63, 65, 67, 69, 71, 73, 75, 77, 79, 81, 83, 85, 87, 89, 91, 93, 95, 97, 99]\n"
     ]
    }
   ],
   "source": [
    "'''\n",
    "Q9 : Write a code to print odd numbers from 1 to 100 using list comprehension.\n",
    "Note: Use a list comprehension to create a list from 1 to 100 and use another List comprehension to filter\n",
    "out odd numbers.\n",
    "'''\n",
    "no = [no for no in range(1, 101)]\n",
    "odd = [n for n in range(len(no)) if n % 2 != 0]\n",
    "print(odd)"
   ]
  },
  {
   "cell_type": "code",
   "execution_count": null,
   "id": "95bd2e4b-d6d6-4845-a0d2-63d143d99e8e",
   "metadata": {},
   "outputs": [],
   "source": []
  },
  {
   "cell_type": "code",
   "execution_count": null,
   "id": "485b5338-a9fb-4350-8557-8ee3b9617e98",
   "metadata": {},
   "outputs": [],
   "source": []
  }
 ],
 "metadata": {
  "kernelspec": {
   "display_name": "Python 3 (ipykernel)",
   "language": "python",
   "name": "python3"
  },
  "language_info": {
   "codemirror_mode": {
    "name": "ipython",
    "version": 3
   },
   "file_extension": ".py",
   "mimetype": "text/x-python",
   "name": "python",
   "nbconvert_exporter": "python",
   "pygments_lexer": "ipython3",
   "version": "3.11.4"
  }
 },
 "nbformat": 4,
 "nbformat_minor": 5
}
