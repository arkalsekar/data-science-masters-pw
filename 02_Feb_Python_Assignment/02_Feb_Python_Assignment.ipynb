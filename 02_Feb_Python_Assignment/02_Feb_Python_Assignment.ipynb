{
 "cells": [
  {
   "cell_type": "code",
   "execution_count": 42,
   "id": "aa6d33dc-ff7d-43ea-b0b0-6e91099242a5",
   "metadata": {},
   "outputs": [
    {
     "name": "stdout",
     "output_type": "stream",
     "text": [
      "Abdul Rehman\n",
      "PW SKILLS\n",
      "Data\n",
      "Science\n",
      "1\n",
      "2\n",
      "3\n",
      "4\n",
      "5\n",
      "6\n",
      "7\n",
      "8\n",
      "9\n"
     ]
    }
   ],
   "source": [
    "''' Q! Use of For Loop and While Loop\n",
    "For Loop is used when we have lists, dictionaries and other iterables and their length is accessible via some of their methods .\n",
    "For Example\n",
    "'''\n",
    "mylist = [\"Abdul Rehman\", \"PW SKILLS\", \"Data\", \"Science\"]\n",
    "for i in range(len(mylist)):\n",
    "    print(mylist[i])\n",
    "\n",
    "'''\n",
    "How Ever WHile Loop is mainly used when we want to iterate over and over agian until a specific condition is met\n",
    "Example\n",
    "'''\n",
    "a = 1\n",
    "while a!=10:\n",
    "    print(a)\n",
    "    a += 1\n"
   ]
  },
  {
   "cell_type": "code",
   "execution_count": 43,
   "id": "aec0cb0c-116b-45a8-922c-9804b28cd7ef",
   "metadata": {
    "scrolled": true
   },
   "outputs": [
    {
     "name": "stdout",
     "output_type": "stream",
     "text": [
      "45\n",
      "362880\n",
      "45\n",
      "362880\n"
     ]
    }
   ],
   "source": [
    "''' \n",
    "Q2 : Write a python program to print the sum and product of the first 10 natural numbers using for\n",
    "and while loop.\n",
    "''' \n",
    "def sum_using_for(n):\n",
    "    sum = 0\n",
    "    for i in range(n):\n",
    "        sum += i\n",
    "    return sum\n",
    "\n",
    "def product_using_for(n):\n",
    "    product = 1\n",
    "    for i in range(n):\n",
    "        if (i==0):\n",
    "            continue\n",
    "        product *= i\n",
    "    return product\n",
    "\n",
    "def sum_using_while(n):\n",
    "    sum = 0\n",
    "    i = 0\n",
    "    while i != n:\n",
    "        sum += i\n",
    "        i = i + 1\n",
    "    return sum\n",
    "\n",
    "def product_using_while(n):\n",
    "    product = 1\n",
    "    i = 1\n",
    "    while i != n:\n",
    "        product *= i\n",
    "        i = i + 1\n",
    "    return product\n",
    "\n",
    "print(sum_using_for(10))\n",
    "print(product_using_for(10))\n",
    "print(sum_using_while(10))\n",
    "print(product_using_while(10))"
   ]
  },
  {
   "cell_type": "code",
   "execution_count": 46,
   "id": "d7d0f90c-3712-468d-9da7-25bde5b37073",
   "metadata": {
    "scrolled": true
   },
   "outputs": [
    {
     "name": "stdin",
     "output_type": "stream",
     "text": [
      "Please Enter the Usage Untis 310\n"
     ]
    },
    {
     "name": "stdout",
     "output_type": "stream",
     "text": [
      "THe Bill Amount for  310  usin|g is  2250.0\n"
     ]
    }
   ],
   "source": [
    "''' \n",
    "Q4 : Create a python program to compute the electricity bill for a household.\n",
    "\n",
    "The per-unit charges in rupees are as follows: For the first 100 units, the user will be charged Rs. 4.5 per\n",
    "unit, for the next 100 units, the user will be charged Rs. 6 per unit, and for the next 100 units, the user will\n",
    "be charged Rs. 10 per unit, After 300 units and above the user will be charged Rs. 20 per unit.\n",
    "'''\n",
    "def calculate(units_used):\n",
    "    bill_amt = 0\n",
    "    for i in range(1, units_used + 1):\n",
    "        if (i <=  100):\n",
    "            bill_amt = bill_amt + 4.5\n",
    "            # print(\"Bill Amt is \", i, bill_amt)\n",
    "        if (i > 100 and i <= 200):\n",
    "            bill_amt = bill_amt + 6\n",
    "            # print(\"Bill Amt is \", i, bill_amt)\n",
    "        if (i > 200 and i <= 300):\n",
    "            bill_amt = bill_amt + 10\n",
    "            # print(\"Bill Amt is \", i, bill_amt)\n",
    "        if (i>300):\n",
    "            bill_amt = bill_amt + 20\n",
    "            # print(\"Bill Amt is \", i, bill_amt)\n",
    "    return bill_amt\n",
    "\n",
    "n = input(\"Please Enter the Usage Untis\")\n",
    "print(\"THe Bill Amount for \", n, \" usin|g is \", calculate(int(n)))"
   ]
  },
  {
   "cell_type": "code",
   "execution_count": 47,
   "id": "dbf9fdbf-60e4-43db-845d-b0c1aeab488a",
   "metadata": {},
   "outputs": [
    {
     "name": "stdout",
     "output_type": "stream",
     "text": [
      "[2, 4, 5, 6, 8, 10, 12, 14, 15, 16, 18, 20, 22, 24, 25, 26, 28, 30, 32, 34, 35, 36, 38, 40, 42, 44, 45, 46, 48, 50, 52, 54, 55, 56, 58, 60, 62, 64, 65, 66, 68, 70, 72, 74, 75, 76, 78, 80, 82, 84, 85, 86, 88, 90, 92, 94, 95, 96, 98]\n"
     ]
    }
   ],
   "source": [
    "''' \n",
    "Q4 Create a list of numbers from 1 to 100. Use for loop and while loop to calculate the cube of each\n",
    "number and if the cube of that number is divisible by 4 or 5 then append that number in a list and print\n",
    "that list.\n",
    "'''\n",
    "noList = []\n",
    "reqList = []\n",
    "for i in range(1, 100):\n",
    "    noList.append(i)\n",
    "\n",
    "for j in range(len(noList)):\n",
    "    cube = noList[j] * noList[j] * noList[j]\n",
    "    # print(cube)\n",
    "    if (cube % 4 == 0 or cube % 5 == 0):\n",
    "        reqList.append(noList[j])\n",
    "\n",
    "print(reqList)\n",
    "    "
   ]
  },
  {
   "cell_type": "code",
   "execution_count": 48,
   "id": "e8a67811-087c-493e-8bb2-02c1b7029407",
   "metadata": {},
   "outputs": [
    {
     "name": "stdout",
     "output_type": "stream",
     "text": [
      "12\n"
     ]
    }
   ],
   "source": [
    "''' \n",
    "Q5 : Write a program to filter count vowels in the below-given string.\n",
    "string = \"I want to become a data scientist\"\n",
    "'''\n",
    "string = \"I want to become a data scientist\"\n",
    "vowels = [each for each in string if each in ['a', 'e', 'i', 'o', 'u', 'A', 'E', 'I', 'O', 'U']]\n",
    "print(len(vowels))"
   ]
  },
  {
   "cell_type": "code",
   "execution_count": null,
   "id": "3ce313be-3aaa-479e-9a35-5cd4b2608be6",
   "metadata": {},
   "outputs": [],
   "source": []
  }
 ],
 "metadata": {
  "kernelspec": {
   "display_name": "Python 3 (ipykernel)",
   "language": "python",
   "name": "python3"
  },
  "language_info": {
   "codemirror_mode": {
    "name": "ipython",
    "version": 3
   },
   "file_extension": ".py",
   "mimetype": "text/x-python",
   "name": "python",
   "nbconvert_exporter": "python",
   "pygments_lexer": "ipython3",
   "version": "3.11.4"
  }
 },
 "nbformat": 4,
 "nbformat_minor": 5
}
