{
 "cells": [
  {
   "cell_type": "code",
   "execution_count": 6,
   "id": "750e90c7-11c2-43c9-a7b0-2c1430af48c1",
   "metadata": {},
   "outputs": [
    {
     "data": {
      "text/plain": [
       "'square'"
      ]
     },
     "execution_count": 6,
     "metadata": {},
     "output_type": "execute_result"
    }
   ],
   "source": [
    "\"\"\"\n",
    "Q1. Explain Class and Object with respect to Object-Oriented Programming. Give a suitable example.\n",
    "Answer : Class can be considered as the Blue Print used to create an object. A class contains attributes and methods. object is the instance of the \n",
    "Class.\n",
    "\"\"\"\n",
    "# Class -- Blue Print \n",
    "class Shape:\n",
    "    def __init__(self, name):\n",
    "        self.name = name\n",
    "    \n",
    "    def get_name(self):\n",
    "        return self.name\n",
    "\n",
    "# Object -- Instance of the Class \n",
    "s = Shape(\"square\")\n",
    "s.get_name()"
   ]
  },
  {
   "cell_type": "code",
   "execution_count": 7,
   "id": "722b4c7c-c795-432e-b538-c18e8c4f0720",
   "metadata": {},
   "outputs": [
    {
     "data": {
      "text/plain": [
       "'\\nQ2. Name the four pillars of OOPs.\\nAnswer :\\n1. Encapsulation : Encapsulating the data and methods of the data\\n2. Polymorphism - A Single Class and methods can behave in multiple ways\\n3. Abstraction - Abstraction is hiding the complexity of the program\\n4. Inheritance - A Derived class can be created in heriting the base / parent class and all its methods and attributes\\n'"
      ]
     },
     "execution_count": 7,
     "metadata": {},
     "output_type": "execute_result"
    }
   ],
   "source": [
    "'''\n",
    "Q2. Name the four pillars of OOPs.\n",
    "Answer :\n",
    "1. Encapsulation : Encapsulating the data and methods of the data\n",
    "2. Polymorphism - A Single Class and methods can behave in multiple ways\n",
    "3. Abstraction - Abstraction is hiding the complexity of the program\n",
    "4. Inheritance - A Derived class can be created in heriting the base / parent class and all its methods and attributes\n",
    "'''"
   ]
  },
  {
   "cell_type": "code",
   "execution_count": 10,
   "id": "016d7d0a-6d19-4932-8a11-1c36be97a6fe",
   "metadata": {},
   "outputs": [
    {
     "data": {
      "text/plain": [
       "'square'"
      ]
     },
     "execution_count": 10,
     "metadata": {},
     "output_type": "execute_result"
    }
   ],
   "source": [
    "''' \n",
    "Q3. Explain why the __init__() function is used. Give a suitable example.\n",
    "Ansewr : Init is usually used to initialize the class with initial data and attributes\n",
    "'''\n",
    "# Class -- Blue Print \n",
    "class Shape:\n",
    "    # init function\n",
    "    def __init__(self, name):\n",
    "        self.name = name\n",
    "    \n",
    "    def get_name(self):\n",
    "        return self.name\n",
    "\n",
    "# Object -- Instance of the Class \n",
    "s = Shape(\"square\")\n",
    "s.get_name()"
   ]
  },
  {
   "cell_type": "code",
   "execution_count": 13,
   "id": "279d8f13-0c02-405c-a49c-b810340901b4",
   "metadata": {},
   "outputs": [
    {
     "data": {
      "text/plain": [
       "'square'"
      ]
     },
     "execution_count": 13,
     "metadata": {},
     "output_type": "execute_result"
    }
   ],
   "source": [
    "'''\n",
    "Q4. Why self is used in OOPs?\n",
    "Answer : Self refers to the current class we are working on. every method of a class must contain a self argument.\n",
    "'''\n"
   ]
  },
  {
   "cell_type": "code",
   "execution_count": 23,
   "id": "622e6aa2-bea9-4c81-828e-ad6055a2b61e",
   "metadata": {},
   "outputs": [
    {
     "name": "stdout",
     "output_type": "stream",
     "text": [
      "The area of the Square is  400\n",
      "The Side of the Square is  20\n"
     ]
    }
   ],
   "source": [
    "''' \n",
    "Q5. What is inheritance? Give an example for each type of inheritance.\n",
    "Answer : when a derived class is created which is created by inheriting the parent classs and contains all its method and attributes\n",
    "'''\n",
    "# Parent Class \n",
    "class Shape:\n",
    "    # init function\n",
    "    def __init__(self, name):\n",
    "        self.name = name\n",
    "    \n",
    "    def get_name(self):\n",
    "        return self.name\n",
    "\n",
    "# Dericed Class\n",
    "class Square (Shape):\n",
    "    def __init__(self, side):\n",
    "        self.side = side\n",
    "\n",
    "    def get_area(self):\n",
    "        return (self.side * self.side)\n",
    "\n",
    "    def get_side(self):\n",
    "        return self.side\n",
    "\n",
    "sq = Square(20)\n",
    "print(\"The area of the Square is \", sq.get_area())\n",
    "print(\"The Side of the Square is \", sq.get_side())"
   ]
  },
  {
   "cell_type": "code",
   "execution_count": null,
   "id": "eeba9e8e-058a-4005-a256-7fb5294e36f2",
   "metadata": {},
   "outputs": [],
   "source": []
  }
 ],
 "metadata": {
  "kernelspec": {
   "display_name": "Python 3 (ipykernel)",
   "language": "python",
   "name": "python3"
  },
  "language_info": {
   "codemirror_mode": {
    "name": "ipython",
    "version": 3
   },
   "file_extension": ".py",
   "mimetype": "text/x-python",
   "name": "python",
   "nbconvert_exporter": "python",
   "pygments_lexer": "ipython3",
   "version": "3.11.4"
  }
 },
 "nbformat": 4,
 "nbformat_minor": 5
}
